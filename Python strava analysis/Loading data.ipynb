{
 "cells": [
  {
   "cell_type": "code",
   "execution_count": 44,
   "id": "8a5f9910",
   "metadata": {},
   "outputs": [],
   "source": [
    "import pandas as pd\n",
    "import datetime as dt\n",
    "import matplotlib.pyplot as plt"
   ]
  },
  {
   "cell_type": "code",
   "execution_count": 53,
   "id": "3ed1481f",
   "metadata": {
    "scrolled": false
   },
   "outputs": [
    {
     "name": "stdout",
     "output_type": "stream",
     "text": [
      "File Length: \n",
      "459\n"
     ]
    },
    {
     "name": "stderr",
     "output_type": "stream",
     "text": [
      "<>:25: SyntaxWarning: \"is not\" with a literal. Did you mean \"!=\"?\n",
      "<>:27: SyntaxWarning: \"is not\" with a literal. Did you mean \"!=\"?\n",
      "<>:29: SyntaxWarning: \"is not\" with a literal. Did you mean \"!=\"?\n",
      "<>:25: SyntaxWarning: \"is not\" with a literal. Did you mean \"!=\"?\n",
      "<>:27: SyntaxWarning: \"is not\" with a literal. Did you mean \"!=\"?\n",
      "<>:29: SyntaxWarning: \"is not\" with a literal. Did you mean \"!=\"?\n",
      "C:\\Users\\maasg\\AppData\\Local\\Temp\\ipykernel_17076\\2745652169.py:25: SyntaxWarning: \"is not\" with a literal. Did you mean \"!=\"?\n",
      "  if tvalue is not -1 : Tg.append(tvalue)\n",
      "C:\\Users\\maasg\\AppData\\Local\\Temp\\ipykernel_17076\\2745652169.py:27: SyntaxWarning: \"is not\" with a literal. Did you mean \"!=\"?\n",
      "  if longvalue is not -1 : Longg.append(longvalue)\n",
      "C:\\Users\\maasg\\AppData\\Local\\Temp\\ipykernel_17076\\2745652169.py:29: SyntaxWarning: \"is not\" with a literal. Did you mean \"!=\"?\n",
      "  if latvalue is not -1 : Latg.append(latvalue)\n"
     ]
    }
   ],
   "source": [
    "#THe following script will import the data\n",
    "Tg = []\n",
    "Longg = []\n",
    "Latg = []\n",
    "\n",
    "\n",
    "fo=open(\"GPScoordinatesTest.txt\",\"r\")\n",
    "\n",
    "\n",
    "comp = 0\n",
    "for line in fo:\n",
    "# Extract the timestamps for every layer; gcode command line: ;TIME_ELAPSED:455.443973\n",
    "\n",
    "    if line.startswith('   '):\n",
    "        words=line.split()\n",
    "        tvalue = -1\n",
    "        longvalue = -1\n",
    "        latvalue = -1\n",
    "        for word in words:\n",
    "                if word.startswith('lat'): latvalue = float(word[5:15])\n",
    "                if word.startswith('lon'): longvalue = float(word[5:14])\n",
    "                if word.startswith('<time>'): tvalue = str(word[6:25])\n",
    "\n",
    "        \n",
    "        if tvalue is not -1 : Tg.append(tvalue)\n",
    "            \n",
    "        if longvalue is not -1 : Longg.append(longvalue)\n",
    "            \n",
    "        if latvalue is not -1 : Latg.append(latvalue)\n",
    "\n",
    "print(\"File Length: \")\n",
    "print(len(Tg))\n",
    "result = pd.DataFrame()\n",
    "result['Time'] = Tg\n",
    "result['Longitude'] = Longg\n",
    "result['Latitude']= Latg\n",
    "\n",
    "\n",
    "\n",
    "\n",
    "\n",
    "\n"
   ]
  },
  {
   "cell_type": "code",
   "execution_count": 54,
   "id": "08a13628",
   "metadata": {},
   "outputs": [],
   "source": [
    "result['Time'] = pd.to_datetime(result['Time'])"
   ]
  },
  {
   "cell_type": "code",
   "execution_count": 55,
   "id": "56a6f2d1",
   "metadata": {},
   "outputs": [],
   "source": [
    "result['epoch'] = (result['Time'] - dt.datetime(1970,1,1)).dt.total_seconds()"
   ]
  },
  {
   "cell_type": "code",
   "execution_count": 56,
   "id": "9e1e23ba",
   "metadata": {},
   "outputs": [
    {
     "name": "stderr",
     "output_type": "stream",
     "text": [
      "C:\\Users\\maasg\\AppData\\Local\\Temp\\ipykernel_17076\\1633547660.py:5: SettingWithCopyWarning: \n",
      "A value is trying to be set on a copy of a slice from a DataFrame\n",
      "\n",
      "See the caveats in the documentation: https://pandas.pydata.org/pandas-docs/stable/user_guide/indexing.html#returning-a-view-versus-a-copy\n",
      "  result.dtime[i] = dtime\n"
     ]
    }
   ],
   "source": [
    "result['dtime'] = 0\n",
    "\n",
    "for i in range (1, len(result)):\n",
    "    dtime = result.epoch[i]-result.epoch[i-1]\n",
    "    result.dtime[i] = dtime\n",
    "#There is a second in between every measurement (roughly), sometimes 2 seconds\n"
   ]
  },
  {
   "cell_type": "code",
   "execution_count": 58,
   "id": "fcc1ed92",
   "metadata": {},
   "outputs": [
    {
     "data": {
      "text/html": [
       "<div>\n",
       "<style scoped>\n",
       "    .dataframe tbody tr th:only-of-type {\n",
       "        vertical-align: middle;\n",
       "    }\n",
       "\n",
       "    .dataframe tbody tr th {\n",
       "        vertical-align: top;\n",
       "    }\n",
       "\n",
       "    .dataframe thead th {\n",
       "        text-align: right;\n",
       "    }\n",
       "</style>\n",
       "<table border=\"1\" class=\"dataframe\">\n",
       "  <thead>\n",
       "    <tr style=\"text-align: right;\">\n",
       "      <th></th>\n",
       "      <th>Time</th>\n",
       "      <th>Longitude</th>\n",
       "      <th>Latitude</th>\n",
       "      <th>epoch</th>\n",
       "      <th>dtime</th>\n",
       "    </tr>\n",
       "  </thead>\n",
       "  <tbody>\n",
       "    <tr>\n",
       "      <th>0</th>\n",
       "      <td>2022-04-05 15:22:22</td>\n",
       "      <td>4.898175</td>\n",
       "      <td>52.389519</td>\n",
       "      <td>1.649172e+09</td>\n",
       "      <td>0</td>\n",
       "    </tr>\n",
       "    <tr>\n",
       "      <th>1</th>\n",
       "      <td>2022-04-05 15:22:23</td>\n",
       "      <td>4.898187</td>\n",
       "      <td>52.389508</td>\n",
       "      <td>1.649172e+09</td>\n",
       "      <td>1</td>\n",
       "    </tr>\n",
       "    <tr>\n",
       "      <th>2</th>\n",
       "      <td>2022-04-05 15:22:24</td>\n",
       "      <td>4.898194</td>\n",
       "      <td>52.389500</td>\n",
       "      <td>1.649172e+09</td>\n",
       "      <td>1</td>\n",
       "    </tr>\n",
       "    <tr>\n",
       "      <th>3</th>\n",
       "      <td>2022-04-05 15:22:25</td>\n",
       "      <td>4.898202</td>\n",
       "      <td>52.389491</td>\n",
       "      <td>1.649172e+09</td>\n",
       "      <td>1</td>\n",
       "    </tr>\n",
       "    <tr>\n",
       "      <th>4</th>\n",
       "      <td>2022-04-05 15:22:26</td>\n",
       "      <td>4.898209</td>\n",
       "      <td>52.389483</td>\n",
       "      <td>1.649172e+09</td>\n",
       "      <td>1</td>\n",
       "    </tr>\n",
       "  </tbody>\n",
       "</table>\n",
       "</div>"
      ],
      "text/plain": [
       "                 Time  Longitude   Latitude         epoch  dtime\n",
       "0 2022-04-05 15:22:22   4.898175  52.389519  1.649172e+09      0\n",
       "1 2022-04-05 15:22:23   4.898187  52.389508  1.649172e+09      1\n",
       "2 2022-04-05 15:22:24   4.898194  52.389500  1.649172e+09      1\n",
       "3 2022-04-05 15:22:25   4.898202  52.389491  1.649172e+09      1\n",
       "4 2022-04-05 15:22:26   4.898209  52.389483  1.649172e+09      1"
      ]
     },
     "execution_count": 58,
     "metadata": {},
     "output_type": "execute_result"
    }
   ],
   "source": [
    "result.head()\n",
    "# result.plot(kind='scatter',x='Longitude',y='Latitude',color='red')"
   ]
  },
  {
   "cell_type": "code",
   "execution_count": null,
   "id": "f4d4e7eb",
   "metadata": {},
   "outputs": [],
   "source": [
    "result['direction'] = 0\n",
    "\n",
    "for i in range (1, len(result)):\n",
    "    dlong = result.Longitude[i]-result.Longitude[i-1]\n",
    "    dlat = result.Latitude[i]-result.Latitude[i-1]\n",
    "    result.direction[i] = dtime\n",
    "#There is a second in between every measurement (roughly), sometimes 2 seconds"
   ]
  },
  {
   "cell_type": "code",
   "execution_count": null,
   "id": "e21c0d5f",
   "metadata": {},
   "outputs": [],
   "source": []
  }
 ],
 "metadata": {
  "kernelspec": {
   "display_name": "Python 3 (ipykernel)",
   "language": "python",
   "name": "python3"
  },
  "language_info": {
   "codemirror_mode": {
    "name": "ipython",
    "version": 3
   },
   "file_extension": ".py",
   "mimetype": "text/x-python",
   "name": "python",
   "nbconvert_exporter": "python",
   "pygments_lexer": "ipython3",
   "version": "3.9.13"
  }
 },
 "nbformat": 4,
 "nbformat_minor": 5
}
