{
 "cells": [
  {
   "cell_type": "code",
   "execution_count": 1,
   "id": "9fc89eba",
   "metadata": {},
   "outputs": [],
   "source": [
    "import pandas as pd"
   ]
  },
  {
   "cell_type": "code",
   "execution_count": 5,
   "id": "e181e0aa",
   "metadata": {},
   "outputs": [
    {
     "ename": "SyntaxError",
     "evalue": "'return' outside function (3537744465.py, line 10)",
     "output_type": "error",
     "traceback": [
      "\u001b[1;36m  File \u001b[1;32m\"C:\\Users\\maasg\\AppData\\Local\\Temp\\ipykernel_17076\\3537744465.py\"\u001b[1;36m, line \u001b[1;32m10\u001b[0m\n\u001b[1;33m    return\u001b[0m\n\u001b[1;37m    ^\u001b[0m\n\u001b[1;31mSyntaxError\u001b[0m\u001b[1;31m:\u001b[0m 'return' outside function\n"
     ]
    }
   ],
   "source": [
    "#THe following script will import the data\n",
    "[Tg, Longg, Latg] = D\n",
    "\n",
    "    try:\n",
    "        fo=open(\"GPScoordinatesTest.txt\",\"r\")\n",
    "    except:\n",
    "        print('File cannot be opened: ', filename)\n",
    "        return\n",
    "  \n",
    "    comp = 0\n",
    "    for line in fo:\n",
    "    # Extract the timestamps for every layer; gcode command line: ;TIME_ELAPSED:455.443973\n",
    "   \n",
    "        if line.startswith('G0') or line.startswith('G1') or line.startswith(';TIME'):\n",
    "            words=line.split()\n",
    "            xvalue = -1\n",
    "            yvalue = -1\n",
    "            zvalue = -1\n",
    "            evalue = -1\n",
    "            fvalue = -1\n",
    "            tvalue = -1\n",
    "            for word in words:\n",
    "                    if word.startswith('F'): fvalue = float(word[1:])\n",
    "                    if word.startswith('X'): xvalue = float(word[1:])\n",
    "                    if word.startswith('Y'): yvalue = float(word[1:])\n",
    "                    if word.startswith('Z'): zvalue = float(word[1:])\n",
    "                    if word.startswith('E'): evalue = float(word[1:])\n",
    "                    if word.startswith(';TIME_ELAPSED:'): tvalue = float(word[14:])\n",
    "                       \n",
    "            k=len(X)\n",
    "            if fvalue is not -1 : Fg.append(fvalue)\n",
    "            else: Fg.append(Fg[k-1])\n",
    "            if xvalue is not -1 : Xg.append(xvalue)\n",
    "            else: Xg.append(Xg[k-1])\n",
    "            if yvalue is not -1 : Yg.append(yvalue)\n",
    "            else: Yg.append(Yg[k-1])\n",
    "            if zvalue is not -1 : Zg.append(zvalue)\n",
    "            else: Zg.append(Zg[k-1])\n",
    "            \n",
    "            if evalue is not -1 :\n",
    "                if comp+evalue-(Eg[k-1])<0:\n",
    "                    comp= Eg[k-1]\n",
    "                Eg.append(evalue+comp)\n",
    "                    \n",
    "                if Eg[k]-Eg[k-1]<0: print ('stop, something wrong!!!')\n",
    "            else:\n",
    "                Eg.append(Eg[k-1])\n",
    "            if tvalue is not -1 : Tg.append(tvalue)            \n",
    "            else: Tg.append(Tg[k-1])           \n",
    "           \n",
    "    print(\"File Length: \")\n",
    "    print(len(Xg))\n",
    "    \n",
    "    \n",
    "    Dg=[Fg, Xg, Yg, Zg, Eg, Tg]\n",
    "    \n",
    "    return Dg\n",
    "\n",
    "\n",
    "\n",
    "\n",
    "\n"
   ]
  },
  {
   "cell_type": "code",
   "execution_count": null,
   "id": "c266f9af",
   "metadata": {},
   "outputs": [],
   "source": []
  }
 ],
 "metadata": {
  "kernelspec": {
   "display_name": "Python 3 (ipykernel)",
   "language": "python",
   "name": "python3"
  },
  "language_info": {
   "codemirror_mode": {
    "name": "ipython",
    "version": 3
   },
   "file_extension": ".py",
   "mimetype": "text/x-python",
   "name": "python",
   "nbconvert_exporter": "python",
   "pygments_lexer": "ipython3",
   "version": "3.9.13"
  }
 },
 "nbformat": 4,
 "nbformat_minor": 5
}
